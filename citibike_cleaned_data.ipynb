{
 "cells": [
  {
   "cell_type": "code",
   "execution_count": 2,
   "metadata": {},
   "outputs": [],
   "source": [
    "# import libraries\n",
    "import pandas as pd\n",
    "from pathlib import Path"
   ]
  },
  {
   "cell_type": "code",
   "execution_count": 9,
   "metadata": {},
   "outputs": [],
   "source": [
    "# import the files\n",
    "july_cv = pd.read_csv(Path(\"2013-07 - Citi Bike trip data.csv\"))\n",
    "august_cv = pd.read_csv(Path(\"2013-08 - Citi Bike trip data.csv\"))\n",
    "sep_cv = pd.read_csv(Path(\"2013-09 - Citi Bike trip data.csv\"))\n",
    "oct_cv = pd.read_csv(Path(\"2013-10 - Citi Bike trip data.csv\"))\n",
    "nov_cv = pd.read_csv(Path(\"2013-11 - Citi Bike trip data.csv\"))\n",
    "dec_cv = pd.read_csv(Path(\"2013-12 - Citi Bike trip data.csv\"))\n",
    "jan_cv = pd.read_csv(Path(\"2014-01 - Citi Bike trip data.csv\"))\n",
    "feb_cv = pd.read_csv(Path(\"2014-02 - Citi Bike trip data.csv\"))"
   ]
  },
  {
   "cell_type": "code",
   "execution_count": null,
   "metadata": {},
   "outputs": [],
   "source": []
  }
 ],
 "metadata": {
  "kernelspec": {
   "display_name": "dev",
   "language": "python",
   "name": "python3"
  },
  "language_info": {
   "codemirror_mode": {
    "name": "ipython",
    "version": 3
   },
   "file_extension": ".py",
   "mimetype": "text/x-python",
   "name": "python",
   "nbconvert_exporter": "python",
   "pygments_lexer": "ipython3",
   "version": "3.10.12"
  }
 },
 "nbformat": 4,
 "nbformat_minor": 2
}
